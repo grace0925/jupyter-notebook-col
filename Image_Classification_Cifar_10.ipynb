{
  "nbformat": 4,
  "nbformat_minor": 0,
  "metadata": {
    "colab": {
      "name": "Image-Classification-Cifar-10.ipynb",
      "provenance": [],
      "collapsed_sections": []
    },
    "kernelspec": {
      "name": "python3",
      "display_name": "Python 3"
    },
    "accelerator": "TPU"
  },
  "cells": [
    {
      "cell_type": "markdown",
      "metadata": {
        "id": "sIQLJv89mjxr",
        "colab_type": "text"
      },
      "source": [
        "# Image Classification Using cifar 10 dataset(2D-CNN)"
      ]
    },
    {
      "cell_type": "code",
      "metadata": {
        "id": "CBQ6zuQPmpSN",
        "colab_type": "code",
        "outputId": "62391cdb-8a85-456b-a9fa-f633b9b2ef65",
        "colab": {
          "base_uri": "https://localhost:8080/",
          "height": 1000
        }
      },
      "source": [
        "!pip install mlxtend==0.17.2\n",
        "!pip install tensorflow-gpu==2.0"
      ],
      "execution_count": 2,
      "outputs": [
        {
          "output_type": "stream",
          "text": [
            "Collecting mlxtend==0.17.2\n",
            "\u001b[?25l  Downloading https://files.pythonhosted.org/packages/64/e2/1610a86284029abcad0ac9bc86cb19f9787fe6448ede467188b2a5121bb4/mlxtend-0.17.2-py2.py3-none-any.whl (1.3MB)\n",
            "\r\u001b[K     |▎                               | 10kB 18.4MB/s eta 0:00:01\r\u001b[K     |▌                               | 20kB 2.2MB/s eta 0:00:01\r\u001b[K     |▊                               | 30kB 3.2MB/s eta 0:00:01\r\u001b[K     |█                               | 40kB 2.1MB/s eta 0:00:01\r\u001b[K     |█▎                              | 51kB 2.6MB/s eta 0:00:01\r\u001b[K     |█▌                              | 61kB 3.1MB/s eta 0:00:01\r\u001b[K     |█▊                              | 71kB 3.6MB/s eta 0:00:01\r\u001b[K     |██                              | 81kB 4.0MB/s eta 0:00:01\r\u001b[K     |██▏                             | 92kB 4.5MB/s eta 0:00:01\r\u001b[K     |██▌                             | 102kB 3.5MB/s eta 0:00:01\r\u001b[K     |██▊                             | 112kB 3.5MB/s eta 0:00:01\r\u001b[K     |███                             | 122kB 3.5MB/s eta 0:00:01\r\u001b[K     |███▏                            | 133kB 3.5MB/s eta 0:00:01\r\u001b[K     |███▍                            | 143kB 3.5MB/s eta 0:00:01\r\u001b[K     |███▊                            | 153kB 3.5MB/s eta 0:00:01\r\u001b[K     |████                            | 163kB 3.5MB/s eta 0:00:01\r\u001b[K     |████▏                           | 174kB 3.5MB/s eta 0:00:01\r\u001b[K     |████▍                           | 184kB 3.5MB/s eta 0:00:01\r\u001b[K     |████▋                           | 194kB 3.5MB/s eta 0:00:01\r\u001b[K     |█████                           | 204kB 3.5MB/s eta 0:00:01\r\u001b[K     |█████▏                          | 215kB 3.5MB/s eta 0:00:01\r\u001b[K     |█████▍                          | 225kB 3.5MB/s eta 0:00:01\r\u001b[K     |█████▋                          | 235kB 3.5MB/s eta 0:00:01\r\u001b[K     |█████▉                          | 245kB 3.5MB/s eta 0:00:01\r\u001b[K     |██████▏                         | 256kB 3.5MB/s eta 0:00:01\r\u001b[K     |██████▍                         | 266kB 3.5MB/s eta 0:00:01\r\u001b[K     |██████▋                         | 276kB 3.5MB/s eta 0:00:01\r\u001b[K     |██████▉                         | 286kB 3.5MB/s eta 0:00:01\r\u001b[K     |███████                         | 296kB 3.5MB/s eta 0:00:01\r\u001b[K     |███████▍                        | 307kB 3.5MB/s eta 0:00:01\r\u001b[K     |███████▋                        | 317kB 3.5MB/s eta 0:00:01\r\u001b[K     |███████▉                        | 327kB 3.5MB/s eta 0:00:01\r\u001b[K     |████████                        | 337kB 3.5MB/s eta 0:00:01\r\u001b[K     |████████▎                       | 348kB 3.5MB/s eta 0:00:01\r\u001b[K     |████████▋                       | 358kB 3.5MB/s eta 0:00:01\r\u001b[K     |████████▉                       | 368kB 3.5MB/s eta 0:00:01\r\u001b[K     |█████████                       | 378kB 3.5MB/s eta 0:00:01\r\u001b[K     |█████████▎                      | 389kB 3.5MB/s eta 0:00:01\r\u001b[K     |█████████▌                      | 399kB 3.5MB/s eta 0:00:01\r\u001b[K     |█████████▉                      | 409kB 3.5MB/s eta 0:00:01\r\u001b[K     |██████████                      | 419kB 3.5MB/s eta 0:00:01\r\u001b[K     |██████████▎                     | 430kB 3.5MB/s eta 0:00:01\r\u001b[K     |██████████▌                     | 440kB 3.5MB/s eta 0:00:01\r\u001b[K     |██████████▊                     | 450kB 3.5MB/s eta 0:00:01\r\u001b[K     |███████████                     | 460kB 3.5MB/s eta 0:00:01\r\u001b[K     |███████████▎                    | 471kB 3.5MB/s eta 0:00:01\r\u001b[K     |███████████▌                    | 481kB 3.5MB/s eta 0:00:01\r\u001b[K     |███████████▊                    | 491kB 3.5MB/s eta 0:00:01\r\u001b[K     |████████████                    | 501kB 3.5MB/s eta 0:00:01\r\u001b[K     |████████████▎                   | 512kB 3.5MB/s eta 0:00:01\r\u001b[K     |████████████▌                   | 522kB 3.5MB/s eta 0:00:01\r\u001b[K     |████████████▊                   | 532kB 3.5MB/s eta 0:00:01\r\u001b[K     |█████████████                   | 542kB 3.5MB/s eta 0:00:01\r\u001b[K     |█████████████▏                  | 552kB 3.5MB/s eta 0:00:01\r\u001b[K     |█████████████▌                  | 563kB 3.5MB/s eta 0:00:01\r\u001b[K     |█████████████▊                  | 573kB 3.5MB/s eta 0:00:01\r\u001b[K     |██████████████                  | 583kB 3.5MB/s eta 0:00:01\r\u001b[K     |██████████████▏                 | 593kB 3.5MB/s eta 0:00:01\r\u001b[K     |██████████████▍                 | 604kB 3.5MB/s eta 0:00:01\r\u001b[K     |██████████████▊                 | 614kB 3.5MB/s eta 0:00:01\r\u001b[K     |███████████████                 | 624kB 3.5MB/s eta 0:00:01\r\u001b[K     |███████████████▏                | 634kB 3.5MB/s eta 0:00:01\r\u001b[K     |███████████████▍                | 645kB 3.5MB/s eta 0:00:01\r\u001b[K     |███████████████▋                | 655kB 3.5MB/s eta 0:00:01\r\u001b[K     |████████████████                | 665kB 3.5MB/s eta 0:00:01\r\u001b[K     |████████████████▏               | 675kB 3.5MB/s eta 0:00:01\r\u001b[K     |████████████████▍               | 686kB 3.5MB/s eta 0:00:01\r\u001b[K     |████████████████▋               | 696kB 3.5MB/s eta 0:00:01\r\u001b[K     |████████████████▉               | 706kB 3.5MB/s eta 0:00:01\r\u001b[K     |█████████████████▏              | 716kB 3.5MB/s eta 0:00:01\r\u001b[K     |█████████████████▍              | 727kB 3.5MB/s eta 0:00:01\r\u001b[K     |█████████████████▋              | 737kB 3.5MB/s eta 0:00:01\r\u001b[K     |█████████████████▉              | 747kB 3.5MB/s eta 0:00:01\r\u001b[K     |██████████████████▏             | 757kB 3.5MB/s eta 0:00:01\r\u001b[K     |██████████████████▍             | 768kB 3.5MB/s eta 0:00:01\r\u001b[K     |██████████████████▋             | 778kB 3.5MB/s eta 0:00:01\r\u001b[K     |██████████████████▉             | 788kB 3.5MB/s eta 0:00:01\r\u001b[K     |███████████████████             | 798kB 3.5MB/s eta 0:00:01\r\u001b[K     |███████████████████▍            | 808kB 3.5MB/s eta 0:00:01\r\u001b[K     |███████████████████▋            | 819kB 3.5MB/s eta 0:00:01\r\u001b[K     |███████████████████▉            | 829kB 3.5MB/s eta 0:00:01\r\u001b[K     |████████████████████            | 839kB 3.5MB/s eta 0:00:01\r\u001b[K     |████████████████████▎           | 849kB 3.5MB/s eta 0:00:01\r\u001b[K     |████████████████████▋           | 860kB 3.5MB/s eta 0:00:01\r\u001b[K     |████████████████████▉           | 870kB 3.5MB/s eta 0:00:01\r\u001b[K     |█████████████████████           | 880kB 3.5MB/s eta 0:00:01\r\u001b[K     |█████████████████████▎          | 890kB 3.5MB/s eta 0:00:01\r\u001b[K     |█████████████████████▌          | 901kB 3.5MB/s eta 0:00:01\r\u001b[K     |█████████████████████▉          | 911kB 3.5MB/s eta 0:00:01\r\u001b[K     |██████████████████████          | 921kB 3.5MB/s eta 0:00:01\r\u001b[K     |██████████████████████▎         | 931kB 3.5MB/s eta 0:00:01\r\u001b[K     |██████████████████████▌         | 942kB 3.5MB/s eta 0:00:01\r\u001b[K     |██████████████████████▊         | 952kB 3.5MB/s eta 0:00:01\r\u001b[K     |███████████████████████         | 962kB 3.5MB/s eta 0:00:01\r\u001b[K     |███████████████████████▎        | 972kB 3.5MB/s eta 0:00:01\r\u001b[K     |███████████████████████▌        | 983kB 3.5MB/s eta 0:00:01\r\u001b[K     |███████████████████████▊        | 993kB 3.5MB/s eta 0:00:01\r\u001b[K     |████████████████████████        | 1.0MB 3.5MB/s eta 0:00:01\r\u001b[K     |████████████████████████▎       | 1.0MB 3.5MB/s eta 0:00:01\r\u001b[K     |████████████████████████▌       | 1.0MB 3.5MB/s eta 0:00:01\r\u001b[K     |████████████████████████▊       | 1.0MB 3.5MB/s eta 0:00:01\r\u001b[K     |█████████████████████████       | 1.0MB 3.5MB/s eta 0:00:01\r\u001b[K     |█████████████████████████▏      | 1.1MB 3.5MB/s eta 0:00:01\r\u001b[K     |█████████████████████████▌      | 1.1MB 3.5MB/s eta 0:00:01\r\u001b[K     |█████████████████████████▊      | 1.1MB 3.5MB/s eta 0:00:01\r\u001b[K     |██████████████████████████      | 1.1MB 3.5MB/s eta 0:00:01\r\u001b[K     |██████████████████████████▏     | 1.1MB 3.5MB/s eta 0:00:01\r\u001b[K     |██████████████████████████▍     | 1.1MB 3.5MB/s eta 0:00:01\r\u001b[K     |██████████████████████████▊     | 1.1MB 3.5MB/s eta 0:00:01\r\u001b[K     |███████████████████████████     | 1.1MB 3.5MB/s eta 0:00:01\r\u001b[K     |███████████████████████████▏    | 1.1MB 3.5MB/s eta 0:00:01\r\u001b[K     |███████████████████████████▍    | 1.1MB 3.5MB/s eta 0:00:01\r\u001b[K     |███████████████████████████▋    | 1.2MB 3.5MB/s eta 0:00:01\r\u001b[K     |████████████████████████████    | 1.2MB 3.5MB/s eta 0:00:01\r\u001b[K     |████████████████████████████▏   | 1.2MB 3.5MB/s eta 0:00:01\r\u001b[K     |████████████████████████████▍   | 1.2MB 3.5MB/s eta 0:00:01\r\u001b[K     |████████████████████████████▋   | 1.2MB 3.5MB/s eta 0:00:01\r\u001b[K     |████████████████████████████▉   | 1.2MB 3.5MB/s eta 0:00:01\r\u001b[K     |█████████████████████████████▏  | 1.2MB 3.5MB/s eta 0:00:01\r\u001b[K     |█████████████████████████████▍  | 1.2MB 3.5MB/s eta 0:00:01\r\u001b[K     |█████████████████████████████▋  | 1.2MB 3.5MB/s eta 0:00:01\r\u001b[K     |█████████████████████████████▉  | 1.2MB 3.5MB/s eta 0:00:01\r\u001b[K     |██████████████████████████████  | 1.3MB 3.5MB/s eta 0:00:01\r\u001b[K     |██████████████████████████████▍ | 1.3MB 3.5MB/s eta 0:00:01\r\u001b[K     |██████████████████████████████▋ | 1.3MB 3.5MB/s eta 0:00:01\r\u001b[K     |██████████████████████████████▉ | 1.3MB 3.5MB/s eta 0:00:01\r\u001b[K     |███████████████████████████████ | 1.3MB 3.5MB/s eta 0:00:01\r\u001b[K     |███████████████████████████████▎| 1.3MB 3.5MB/s eta 0:00:01\r\u001b[K     |███████████████████████████████▋| 1.3MB 3.5MB/s eta 0:00:01\r\u001b[K     |███████████████████████████████▉| 1.3MB 3.5MB/s eta 0:00:01\r\u001b[K     |████████████████████████████████| 1.3MB 3.5MB/s \n",
            "\u001b[?25hRequirement already satisfied: setuptools in /usr/local/lib/python3.6/dist-packages (from mlxtend==0.17.2) (45.2.0)\n",
            "Requirement already satisfied: pandas>=0.24.2 in /usr/local/lib/python3.6/dist-packages (from mlxtend==0.17.2) (0.25.3)\n",
            "Requirement already satisfied: scikit-learn>=0.20.3 in /usr/local/lib/python3.6/dist-packages (from mlxtend==0.17.2) (0.22.2.post1)\n",
            "Requirement already satisfied: scipy>=1.2.1 in /usr/local/lib/python3.6/dist-packages (from mlxtend==0.17.2) (1.4.1)\n",
            "Requirement already satisfied: numpy>=1.16.2 in /usr/local/lib/python3.6/dist-packages (from mlxtend==0.17.2) (1.18.1)\n",
            "Requirement already satisfied: matplotlib>=3.0.0 in /usr/local/lib/python3.6/dist-packages (from mlxtend==0.17.2) (3.2.0)\n",
            "Requirement already satisfied: joblib>=0.13.2 in /usr/local/lib/python3.6/dist-packages (from mlxtend==0.17.2) (0.14.1)\n",
            "Requirement already satisfied: pytz>=2017.2 in /usr/local/lib/python3.6/dist-packages (from pandas>=0.24.2->mlxtend==0.17.2) (2018.9)\n",
            "Requirement already satisfied: python-dateutil>=2.6.1 in /usr/local/lib/python3.6/dist-packages (from pandas>=0.24.2->mlxtend==0.17.2) (2.8.1)\n",
            "Requirement already satisfied: pyparsing!=2.0.4,!=2.1.2,!=2.1.6,>=2.0.1 in /usr/local/lib/python3.6/dist-packages (from matplotlib>=3.0.0->mlxtend==0.17.2) (2.4.6)\n",
            "Requirement already satisfied: kiwisolver>=1.0.1 in /usr/local/lib/python3.6/dist-packages (from matplotlib>=3.0.0->mlxtend==0.17.2) (1.1.0)\n",
            "Requirement already satisfied: cycler>=0.10 in /usr/local/lib/python3.6/dist-packages (from matplotlib>=3.0.0->mlxtend==0.17.2) (0.10.0)\n",
            "Requirement already satisfied: six>=1.5 in /usr/local/lib/python3.6/dist-packages (from python-dateutil>=2.6.1->pandas>=0.24.2->mlxtend==0.17.2) (1.12.0)\n",
            "Installing collected packages: mlxtend\n",
            "  Found existing installation: mlxtend 0.14.0\n",
            "    Uninstalling mlxtend-0.14.0:\n",
            "      Successfully uninstalled mlxtend-0.14.0\n",
            "Successfully installed mlxtend-0.17.2\n",
            "Collecting tensorflow-gpu==2.0\n",
            "\u001b[?25l  Downloading https://files.pythonhosted.org/packages/25/44/47f0722aea081697143fbcf5d2aa60d1aee4aaacb5869aee2b568974777b/tensorflow_gpu-2.0.0-cp36-cp36m-manylinux2010_x86_64.whl (380.8MB)\n",
            "\u001b[K     |████████████████████████████████| 380.8MB 26kB/s \n",
            "\u001b[?25hRequirement already satisfied: gast==0.2.2 in /usr/local/lib/python3.6/dist-packages (from tensorflow-gpu==2.0) (0.2.2)\n",
            "Requirement already satisfied: keras-preprocessing>=1.0.5 in /usr/local/lib/python3.6/dist-packages (from tensorflow-gpu==2.0) (1.1.0)\n",
            "Requirement already satisfied: opt-einsum>=2.3.2 in /usr/local/lib/python3.6/dist-packages (from tensorflow-gpu==2.0) (3.2.0)\n",
            "Requirement already satisfied: wrapt>=1.11.1 in /usr/local/lib/python3.6/dist-packages (from tensorflow-gpu==2.0) (1.12.1)\n",
            "Requirement already satisfied: astor>=0.6.0 in /usr/local/lib/python3.6/dist-packages (from tensorflow-gpu==2.0) (0.8.1)\n",
            "Requirement already satisfied: keras-applications>=1.0.8 in /usr/local/lib/python3.6/dist-packages (from tensorflow-gpu==2.0) (1.0.8)\n",
            "Requirement already satisfied: grpcio>=1.8.6 in /usr/local/lib/python3.6/dist-packages (from tensorflow-gpu==2.0) (1.24.3)\n",
            "Collecting tensorflow-estimator<2.1.0,>=2.0.0\n",
            "\u001b[?25l  Downloading https://files.pythonhosted.org/packages/fc/08/8b927337b7019c374719145d1dceba21a8bb909b93b1ad6f8fb7d22c1ca1/tensorflow_estimator-2.0.1-py2.py3-none-any.whl (449kB)\n",
            "\u001b[K     |████████████████████████████████| 450kB 40.4MB/s \n",
            "\u001b[?25hRequirement already satisfied: protobuf>=3.6.1 in /usr/local/lib/python3.6/dist-packages (from tensorflow-gpu==2.0) (3.10.0)\n",
            "Requirement already satisfied: termcolor>=1.1.0 in /usr/local/lib/python3.6/dist-packages (from tensorflow-gpu==2.0) (1.1.0)\n",
            "Requirement already satisfied: google-pasta>=0.1.6 in /usr/local/lib/python3.6/dist-packages (from tensorflow-gpu==2.0) (0.1.8)\n",
            "Collecting tensorboard<2.1.0,>=2.0.0\n",
            "\u001b[?25l  Downloading https://files.pythonhosted.org/packages/76/54/99b9d5d52d5cb732f099baaaf7740403e83fe6b0cedde940fabd2b13d75a/tensorboard-2.0.2-py3-none-any.whl (3.8MB)\n",
            "\u001b[K     |████████████████████████████████| 3.8MB 49.1MB/s \n",
            "\u001b[?25hRequirement already satisfied: six>=1.10.0 in /usr/local/lib/python3.6/dist-packages (from tensorflow-gpu==2.0) (1.12.0)\n",
            "Requirement already satisfied: numpy<2.0,>=1.16.0 in /usr/local/lib/python3.6/dist-packages (from tensorflow-gpu==2.0) (1.18.1)\n",
            "Requirement already satisfied: wheel>=0.26 in /usr/local/lib/python3.6/dist-packages (from tensorflow-gpu==2.0) (0.34.2)\n",
            "Requirement already satisfied: absl-py>=0.7.0 in /usr/local/lib/python3.6/dist-packages (from tensorflow-gpu==2.0) (0.9.0)\n",
            "Requirement already satisfied: h5py in /usr/local/lib/python3.6/dist-packages (from keras-applications>=1.0.8->tensorflow-gpu==2.0) (2.8.0)\n",
            "Requirement already satisfied: setuptools in /usr/local/lib/python3.6/dist-packages (from protobuf>=3.6.1->tensorflow-gpu==2.0) (45.2.0)\n",
            "Requirement already satisfied: markdown>=2.6.8 in /usr/local/lib/python3.6/dist-packages (from tensorboard<2.1.0,>=2.0.0->tensorflow-gpu==2.0) (3.2.1)\n",
            "Requirement already satisfied: google-auth-oauthlib<0.5,>=0.4.1 in /usr/local/lib/python3.6/dist-packages (from tensorboard<2.1.0,>=2.0.0->tensorflow-gpu==2.0) (0.4.1)\n",
            "Requirement already satisfied: requests<3,>=2.21.0 in /usr/local/lib/python3.6/dist-packages (from tensorboard<2.1.0,>=2.0.0->tensorflow-gpu==2.0) (2.21.0)\n",
            "Requirement already satisfied: werkzeug>=0.11.15 in /usr/local/lib/python3.6/dist-packages (from tensorboard<2.1.0,>=2.0.0->tensorflow-gpu==2.0) (1.0.0)\n",
            "Requirement already satisfied: google-auth<2,>=1.6.3 in /usr/local/lib/python3.6/dist-packages (from tensorboard<2.1.0,>=2.0.0->tensorflow-gpu==2.0) (1.7.2)\n",
            "Requirement already satisfied: requests-oauthlib>=0.7.0 in /usr/local/lib/python3.6/dist-packages (from google-auth-oauthlib<0.5,>=0.4.1->tensorboard<2.1.0,>=2.0.0->tensorflow-gpu==2.0) (1.3.0)\n",
            "Requirement already satisfied: chardet<3.1.0,>=3.0.2 in /usr/local/lib/python3.6/dist-packages (from requests<3,>=2.21.0->tensorboard<2.1.0,>=2.0.0->tensorflow-gpu==2.0) (3.0.4)\n",
            "Requirement already satisfied: urllib3<1.25,>=1.21.1 in /usr/local/lib/python3.6/dist-packages (from requests<3,>=2.21.0->tensorboard<2.1.0,>=2.0.0->tensorflow-gpu==2.0) (1.24.3)\n",
            "Requirement already satisfied: certifi>=2017.4.17 in /usr/local/lib/python3.6/dist-packages (from requests<3,>=2.21.0->tensorboard<2.1.0,>=2.0.0->tensorflow-gpu==2.0) (2019.11.28)\n",
            "Requirement already satisfied: idna<2.9,>=2.5 in /usr/local/lib/python3.6/dist-packages (from requests<3,>=2.21.0->tensorboard<2.1.0,>=2.0.0->tensorflow-gpu==2.0) (2.8)\n",
            "Requirement already satisfied: rsa<4.1,>=3.1.4 in /usr/local/lib/python3.6/dist-packages (from google-auth<2,>=1.6.3->tensorboard<2.1.0,>=2.0.0->tensorflow-gpu==2.0) (4.0)\n",
            "Requirement already satisfied: pyasn1-modules>=0.2.1 in /usr/local/lib/python3.6/dist-packages (from google-auth<2,>=1.6.3->tensorboard<2.1.0,>=2.0.0->tensorflow-gpu==2.0) (0.2.8)\n",
            "Requirement already satisfied: cachetools<3.2,>=2.0.0 in /usr/local/lib/python3.6/dist-packages (from google-auth<2,>=1.6.3->tensorboard<2.1.0,>=2.0.0->tensorflow-gpu==2.0) (3.1.1)\n",
            "Requirement already satisfied: oauthlib>=3.0.0 in /usr/local/lib/python3.6/dist-packages (from requests-oauthlib>=0.7.0->google-auth-oauthlib<0.5,>=0.4.1->tensorboard<2.1.0,>=2.0.0->tensorflow-gpu==2.0) (3.1.0)\n",
            "Requirement already satisfied: pyasn1>=0.1.3 in /usr/local/lib/python3.6/dist-packages (from rsa<4.1,>=3.1.4->google-auth<2,>=1.6.3->tensorboard<2.1.0,>=2.0.0->tensorflow-gpu==2.0) (0.4.8)\n",
            "\u001b[31mERROR: tensorflow 1.15.0 has requirement tensorboard<1.16.0,>=1.15.0, but you'll have tensorboard 2.0.2 which is incompatible.\u001b[0m\n",
            "\u001b[31mERROR: tensorflow 1.15.0 has requirement tensorflow-estimator==1.15.1, but you'll have tensorflow-estimator 2.0.1 which is incompatible.\u001b[0m\n",
            "\u001b[31mERROR: tensorflow-federated 0.12.0 has requirement tensorflow~=2.1.0, but you'll have tensorflow 1.15.0 which is incompatible.\u001b[0m\n",
            "\u001b[31mERROR: tensorflow-federated 0.12.0 has requirement tensorflow-addons~=0.7.0, but you'll have tensorflow-addons 0.8.3 which is incompatible.\u001b[0m\n",
            "Installing collected packages: tensorflow-estimator, tensorboard, tensorflow-gpu\n",
            "  Found existing installation: tensorflow-estimator 1.15.1\n",
            "    Uninstalling tensorflow-estimator-1.15.1:\n",
            "      Successfully uninstalled tensorflow-estimator-1.15.1\n",
            "  Found existing installation: tensorboard 1.15.0\n",
            "    Uninstalling tensorboard-1.15.0:\n",
            "      Successfully uninstalled tensorboard-1.15.0\n",
            "Successfully installed tensorboard-2.1.1 tensorflow-estimator-2.1.0 tensorflow-gpu-2.0.0\n"
          ],
          "name": "stdout"
        }
      ]
    },
    {
      "cell_type": "code",
      "metadata": {
        "id": "pyRzlI4lrQ--",
        "colab_type": "code",
        "colab": {}
      },
      "source": [
        "import tensorflow as tf\n",
        "from tensorflow.keras import Sequential\n",
        "from tensorflow.keras.layers import Flatten, Dense, Convolution2D, MaxPool2D, Dropout\n",
        "import numpy as np\n",
        "import matplotlib.pyplot as plt\n",
        "import matplotlib"
      ],
      "execution_count": 0,
      "outputs": []
    },
    {
      "cell_type": "markdown",
      "metadata": {
        "id": "qobdm6YEuvnf",
        "colab_type": "text"
      },
      "source": [
        "#### Download Cifar-10 dataset\n"
      ]
    },
    {
      "cell_type": "code",
      "metadata": {
        "id": "w_7Z52umu0Q-",
        "colab_type": "code",
        "colab": {}
      },
      "source": [
        "from tensorflow.keras.datasets import cifar10"
      ],
      "execution_count": 0,
      "outputs": []
    },
    {
      "cell_type": "code",
      "metadata": {
        "id": "DScUK15TvIOW",
        "colab_type": "code",
        "outputId": "201de6fa-f262-45e7-c7f5-f3520b2a06d5",
        "colab": {
          "base_uri": "https://localhost:8080/",
          "height": 50
        }
      },
      "source": [
        "(x_train, y_train), (x_test, y_test) = cifar10.load_data()"
      ],
      "execution_count": 5,
      "outputs": [
        {
          "output_type": "stream",
          "text": [
            "Downloading data from https://www.cs.toronto.edu/~kriz/cifar-10-python.tar.gz\n",
            "170500096/170498071 [==============================] - 2s 0us/step\n"
          ],
          "name": "stdout"
        }
      ]
    },
    {
      "cell_type": "code",
      "metadata": {
        "id": "7CWb4uuuvZiw",
        "colab_type": "code",
        "colab": {}
      },
      "source": [
        "class_names = ['airplane', 'automobile', 'bird', 'cat', 'deer', 'dog', 'frog', 'horse', 'ship', 'truck']\n",
        "x_train = x_train/255\n",
        "x_test = x_test/255"
      ],
      "execution_count": 0,
      "outputs": []
    },
    {
      "cell_type": "markdown",
      "metadata": {
        "id": "WCmgfn6EwNO5",
        "colab_type": "text"
      },
      "source": [
        "#### 50000 images, 32x32 pixels, each has 3 depths"
      ]
    },
    {
      "cell_type": "code",
      "metadata": {
        "id": "SlpjbnOWwNnv",
        "colab_type": "code",
        "outputId": "91087286-a237-4755-8e74-40298f9f74e7",
        "colab": {
          "base_uri": "https://localhost:8080/",
          "height": 34
        }
      },
      "source": [
        "x_train.shape"
      ],
      "execution_count": 7,
      "outputs": [
        {
          "output_type": "execute_result",
          "data": {
            "text/plain": [
              "(50000, 32, 32, 3)"
            ]
          },
          "metadata": {
            "tags": []
          },
          "execution_count": 7
        }
      ]
    },
    {
      "cell_type": "code",
      "metadata": {
        "id": "X3S9lVjzQune",
        "colab_type": "code",
        "colab": {
          "base_uri": "https://localhost:8080/",
          "height": 34
        },
        "outputId": "27d26b36-8d65-40dc-b1f2-4b9101fc9c16"
      },
      "source": [
        "x_test.shape"
      ],
      "execution_count": 8,
      "outputs": [
        {
          "output_type": "execute_result",
          "data": {
            "text/plain": [
              "(10000, 32, 32, 3)"
            ]
          },
          "metadata": {
            "tags": []
          },
          "execution_count": 8
        }
      ]
    },
    {
      "cell_type": "code",
      "metadata": {
        "id": "WjRsS3lMk4QC",
        "colab_type": "code",
        "colab": {
          "base_uri": "https://localhost:8080/",
          "height": 283
        },
        "outputId": "d1698ace-cd1a-409f-bf09-534fc3d8318c"
      },
      "source": [
        "plt.imshow(x_test[0])"
      ],
      "execution_count": 9,
      "outputs": [
        {
          "output_type": "execute_result",
          "data": {
            "text/plain": [
              "<matplotlib.image.AxesImage at 0x7f41f7b2bd30>"
            ]
          },
          "metadata": {
            "tags": []
          },
          "execution_count": 9
        },
        {
          "output_type": "display_data",
          "data": {
            "image/png": "[encoded data removed]",
            "text/plain": [
              "<Figure size 432x288 with 1 Axes>"
            ]
          },
          "metadata": {
            "tags": []
          }
        }
      ]
    },
    {
      "cell_type": "markdown",
      "metadata": {
        "id": "Nlzs0lEblNnn",
        "colab_type": "text"
      },
      "source": [
        "#### Build CNN Model"
      ]
    },
    {
      "cell_type": "code",
      "metadata": {
        "id": "Vm2g_7LglQgX",
        "colab_type": "code",
        "colab": {}
      },
      "source": [
        "model = Sequential()\n",
        "model.add(Convolution2D(filters=32, kernel_size=(3,3), padding='same', activation='relu',input_shape= [32, 32, 3]))\n",
        "model.add(Convolution2D(filters=32, kernel_size=(3,3), padding='same', activation='relu'))\n",
        "\n",
        "model.add(MaxPool2D(pool_size=(2,2), strides=2, padding='valid'))\n",
        "model.add(Dropout(0.5))\n",
        "\n",
        "model.add(Flatten())\n",
        "model.add(Dense(units=128, activation=\"relu\"))\n",
        "model.add(Dense(units=10, activation='softmax'))\n",
        "\n"
      ],
      "execution_count": 0,
      "outputs": []
    },
    {
      "cell_type": "code",
      "metadata": {
        "id": "X57llkuDpHaA",
        "colab_type": "code",
        "colab": {
          "base_uri": "https://localhost:8080/",
          "height": 386
        },
        "outputId": "6b7b87ae-fe14-4576-eac2-0101a994cef3"
      },
      "source": [
        "model.summary()"
      ],
      "execution_count": 18,
      "outputs": [
        {
          "output_type": "stream",
          "text": [
            "Model: \"sequential_1\"\n",
            "_________________________________________________________________\n",
            "Layer (type)                 Output Shape              Param #   \n",
            "=================================================================\n",
            "conv2d_1 (Conv2D)            (None, 32, 32, 32)        896       \n",
            "_________________________________________________________________\n",
            "conv2d_2 (Conv2D)            (None, 32, 32, 32)        9248      \n",
            "_________________________________________________________________\n",
            "max_pooling2d (MaxPooling2D) (None, 16, 16, 32)        0         \n",
            "_________________________________________________________________\n",
            "dropout (Dropout)            (None, 16, 16, 32)        0         \n",
            "_________________________________________________________________\n",
            "flatten (Flatten)            (None, 8192)              0         \n",
            "_________________________________________________________________\n",
            "dense (Dense)                (None, 128)               1048704   \n",
            "_________________________________________________________________\n",
            "dense_1 (Dense)              (None, 10)                1290      \n",
            "=================================================================\n",
            "Total params: 1,060,138\n",
            "Trainable params: 1,060,138\n",
            "Non-trainable params: 0\n",
            "_________________________________________________________________\n"
          ],
          "name": "stdout"
        }
      ]
    },
    {
      "cell_type": "code",
      "metadata": {
        "id": "J5sldVQ_paYn",
        "colab_type": "code",
        "colab": {}
      },
      "source": [
        "model.compile(optimizer='adam', loss='sparse_categorical_crossentropy', metrics=['sparse_categorical_accuracy'])"
      ],
      "execution_count": 0,
      "outputs": []
    },
    {
      "cell_type": "code",
      "metadata": {
        "id": "3aEWh1DJpt_J",
        "colab_type": "code",
        "colab": {
          "base_uri": "https://localhost:8080/",
          "height": 386
        },
        "outputId": "1796ac91-d320-4ba4-9a80-e7ea76a030b4"
      },
      "source": [
        "model.fit(x_train, y_train, batch_size=10, epochs=10, verbose=1, validation_data=(x_test, y_test))"
      ],
      "execution_count": 20,
      "outputs": [
        {
          "output_type": "stream",
          "text": [
            "Train on 50000 samples, validate on 10000 samples\n",
            "Epoch 1/10\n",
            "50000/50000 [==============================] - 221s 4ms/sample - loss: 1.3638 - sparse_categorical_accuracy: 0.5114 - val_loss: 1.0698 - val_sparse_categorical_accuracy: 0.6196\n",
            "Epoch 2/10\n",
            "50000/50000 [==============================] - 226s 5ms/sample - loss: 1.0543 - sparse_categorical_accuracy: 0.6275 - val_loss: 0.9824 - val_sparse_categorical_accuracy: 0.6482\n",
            "Epoch 3/10\n",
            "50000/50000 [==============================] - 225s 4ms/sample - loss: 0.9396 - sparse_categorical_accuracy: 0.6680 - val_loss: 1.0093 - val_sparse_categorical_accuracy: 0.6389\n",
            "Epoch 4/10\n",
            "50000/50000 [==============================] - 224s 4ms/sample - loss: 0.8544 - sparse_categorical_accuracy: 0.6961 - val_loss: 0.9283 - val_sparse_categorical_accuracy: 0.6723\n",
            "Epoch 5/10\n",
            "50000/50000 [==============================] - 224s 4ms/sample - loss: 0.7808 - sparse_categorical_accuracy: 0.7242 - val_loss: 0.9056 - val_sparse_categorical_accuracy: 0.6836\n",
            "Epoch 6/10\n",
            "50000/50000 [==============================] - 226s 5ms/sample - loss: 0.7256 - sparse_categorical_accuracy: 0.7417 - val_loss: 0.9131 - val_sparse_categorical_accuracy: 0.6825\n",
            "Epoch 7/10\n",
            "50000/50000 [==============================] - 226s 5ms/sample - loss: 0.6731 - sparse_categorical_accuracy: 0.7599 - val_loss: 0.8952 - val_sparse_categorical_accuracy: 0.6856\n",
            "Epoch 8/10\n",
            "50000/50000 [==============================] - 225s 4ms/sample - loss: 0.6220 - sparse_categorical_accuracy: 0.7800 - val_loss: 0.8904 - val_sparse_categorical_accuracy: 0.6941\n",
            "Epoch 9/10\n",
            "50000/50000 [==============================] - 225s 4ms/sample - loss: 0.5899 - sparse_categorical_accuracy: 0.7906 - val_loss: 0.9445 - val_sparse_categorical_accuracy: 0.6807\n",
            "Epoch 10/10\n",
            "50000/50000 [==============================] - 225s 5ms/sample - loss: 0.5530 - sparse_categorical_accuracy: 0.8046 - val_loss: 0.9244 - val_sparse_categorical_accuracy: 0.7013\n"
          ],
          "name": "stdout"
        },
        {
          "output_type": "execute_result",
          "data": {
            "text/plain": [
              "<tensorflow.python.keras.callbacks.History at 0x7f4266a28d68>"
            ]
          },
          "metadata": {
            "tags": []
          },
          "execution_count": 20
        }
      ]
    },
    {
      "cell_type": "code",
      "metadata": {
        "id": "gzOP9YY-y824",
        "colab_type": "code",
        "colab": {}
      },
      "source": [
        ""
      ],
      "execution_count": 0,
      "outputs": []
    }
  ]
}