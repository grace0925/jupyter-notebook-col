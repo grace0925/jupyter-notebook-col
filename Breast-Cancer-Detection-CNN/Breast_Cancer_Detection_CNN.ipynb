{
  "nbformat": 4,
  "nbformat_minor": 0,
  "metadata": {
    "colab": {
      "name": "Breast-Cancer-Detection-CNN.ipynb",
      "provenance": []
    },
    "kernelspec": {
      "name": "python3",
      "display_name": "Python 3"
    }
  },
  "cells": [
    {
      "cell_type": "markdown",
      "metadata": {
        "id": "D3ueHCfUQdfK",
        "colab_type": "text"
      },
      "source": [
        "# Breast-Cancer-Detection-CNN"
      ]
    },
    {
      "cell_type": "markdown",
      "metadata": {
        "id": "bFJz67zCQYvX",
        "colab_type": "text"
      },
      "source": [
        "Breast Cancer Detection using a CNN model."
      ]
    },
    {
      "cell_type": "markdown",
      "metadata": {
        "id": "rw9CIJIRQmGR",
        "colab_type": "text"
      },
      "source": [
        "## Import Libraries"
      ]
    },
    {
      "cell_type": "code",
      "metadata": {
        "id": "UIJD2VPVQKvS",
        "colab_type": "code",
        "colab": {
          "base_uri": "https://localhost:8080/",
          "height": 726
        },
        "outputId": "4b601327-c4c7-48b5-ed52-e07994ddb34c"
      },
      "source": [
        "!pip install tensorflow-gpu==2.2.0"
      ],
      "execution_count": 1,
      "outputs": [
        {
          "output_type": "stream",
          "text": [
            "Collecting tensorflow-gpu==2.2.0\n",
            "\u001b[?25l  Downloading https://files.pythonhosted.org/packages/31/bf/c28971266ca854a64f4b26f07c4112ddd61f30b4d1f18108b954a746f8ea/tensorflow_gpu-2.2.0-cp36-cp36m-manylinux2010_x86_64.whl (516.2MB)\n",
            "\u001b[K     |████████████████████████████████| 516.2MB 29kB/s \n",
            "\u001b[?25hRequirement already satisfied: google-pasta>=0.1.8 in /usr/local/lib/python3.6/dist-packages (from tensorflow-gpu==2.2.0) (0.2.0)\n",
            "Requirement already satisfied: opt-einsum>=2.3.2 in /usr/local/lib/python3.6/dist-packages (from tensorflow-gpu==2.2.0) (3.2.1)\n",
            "Requirement already satisfied: grpcio>=1.8.6 in /usr/local/lib/python3.6/dist-packages (from tensorflow-gpu==2.2.0) (1.29.0)\n",
            "Requirement already satisfied: wheel>=0.26; python_version >= \"3\" in /usr/local/lib/python3.6/dist-packages (from tensorflow-gpu==2.2.0) (0.34.2)\n",
            "Requirement already satisfied: six>=1.12.0 in /usr/local/lib/python3.6/dist-packages (from tensorflow-gpu==2.2.0) (1.12.0)\n",
            "Requirement already satisfied: termcolor>=1.1.0 in /usr/local/lib/python3.6/dist-packages (from tensorflow-gpu==2.2.0) (1.1.0)\n",
            "Requirement already satisfied: h5py<2.11.0,>=2.10.0 in /usr/local/lib/python3.6/dist-packages (from tensorflow-gpu==2.2.0) (2.10.0)\n",
            "Requirement already satisfied: absl-py>=0.7.0 in /usr/local/lib/python3.6/dist-packages (from tensorflow-gpu==2.2.0) (0.9.0)\n",
            "Requirement already satisfied: keras-preprocessing>=1.1.0 in /usr/local/lib/python3.6/dist-packages (from tensorflow-gpu==2.2.0) (1.1.2)\n",
            "Requirement already satisfied: tensorflow-estimator<2.3.0,>=2.2.0 in /usr/local/lib/python3.6/dist-packages (from tensorflow-gpu==2.2.0) (2.2.0)\n",
            "Requirement already satisfied: wrapt>=1.11.1 in /usr/local/lib/python3.6/dist-packages (from tensorflow-gpu==2.2.0) (1.12.1)\n",
            "Requirement already satisfied: scipy==1.4.1; python_version >= \"3\" in /usr/local/lib/python3.6/dist-packages (from tensorflow-gpu==2.2.0) (1.4.1)\n",
            "Requirement already satisfied: gast==0.3.3 in /usr/local/lib/python3.6/dist-packages (from tensorflow-gpu==2.2.0) (0.3.3)\n",
            "Requirement already satisfied: numpy<2.0,>=1.16.0 in /usr/local/lib/python3.6/dist-packages (from tensorflow-gpu==2.2.0) (1.18.4)\n",
            "Requirement already satisfied: tensorboard<2.3.0,>=2.2.0 in /usr/local/lib/python3.6/dist-packages (from tensorflow-gpu==2.2.0) (2.2.1)\n",
            "Requirement already satisfied: protobuf>=3.8.0 in /usr/local/lib/python3.6/dist-packages (from tensorflow-gpu==2.2.0) (3.10.0)\n",
            "Requirement already satisfied: astunparse==1.6.3 in /usr/local/lib/python3.6/dist-packages (from tensorflow-gpu==2.2.0) (1.6.3)\n",
            "Requirement already satisfied: markdown>=2.6.8 in /usr/local/lib/python3.6/dist-packages (from tensorboard<2.3.0,>=2.2.0->tensorflow-gpu==2.2.0) (3.2.2)\n",
            "Requirement already satisfied: setuptools>=41.0.0 in /usr/local/lib/python3.6/dist-packages (from tensorboard<2.3.0,>=2.2.0->tensorflow-gpu==2.2.0) (46.3.0)\n",
            "Requirement already satisfied: tensorboard-plugin-wit>=1.6.0 in /usr/local/lib/python3.6/dist-packages (from tensorboard<2.3.0,>=2.2.0->tensorflow-gpu==2.2.0) (1.6.0.post3)\n",
            "Requirement already satisfied: google-auth-oauthlib<0.5,>=0.4.1 in /usr/local/lib/python3.6/dist-packages (from tensorboard<2.3.0,>=2.2.0->tensorflow-gpu==2.2.0) (0.4.1)\n",
            "Requirement already satisfied: requests<3,>=2.21.0 in /usr/local/lib/python3.6/dist-packages (from tensorboard<2.3.0,>=2.2.0->tensorflow-gpu==2.2.0) (2.23.0)\n",
            "Requirement already satisfied: google-auth<2,>=1.6.3 in /usr/local/lib/python3.6/dist-packages (from tensorboard<2.3.0,>=2.2.0->tensorflow-gpu==2.2.0) (1.7.2)\n",
            "Requirement already satisfied: werkzeug>=0.11.15 in /usr/local/lib/python3.6/dist-packages (from tensorboard<2.3.0,>=2.2.0->tensorflow-gpu==2.2.0) (1.0.1)\n",
            "Requirement already satisfied: importlib-metadata; python_version < \"3.8\" in /usr/local/lib/python3.6/dist-packages (from markdown>=2.6.8->tensorboard<2.3.0,>=2.2.0->tensorflow-gpu==2.2.0) (1.6.0)\n",
            "Requirement already satisfied: requests-oauthlib>=0.7.0 in /usr/local/lib/python3.6/dist-packages (from google-auth-oauthlib<0.5,>=0.4.1->tensorboard<2.3.0,>=2.2.0->tensorflow-gpu==2.2.0) (1.3.0)\n",
            "Requirement already satisfied: chardet<4,>=3.0.2 in /usr/local/lib/python3.6/dist-packages (from requests<3,>=2.21.0->tensorboard<2.3.0,>=2.2.0->tensorflow-gpu==2.2.0) (3.0.4)\n",
            "Requirement already satisfied: certifi>=2017.4.17 in /usr/local/lib/python3.6/dist-packages (from requests<3,>=2.21.0->tensorboard<2.3.0,>=2.2.0->tensorflow-gpu==2.2.0) (2020.4.5.1)\n",
            "Requirement already satisfied: idna<3,>=2.5 in /usr/local/lib/python3.6/dist-packages (from requests<3,>=2.21.0->tensorboard<2.3.0,>=2.2.0->tensorflow-gpu==2.2.0) (2.9)\n",
            "Requirement already satisfied: urllib3!=1.25.0,!=1.25.1,<1.26,>=1.21.1 in /usr/local/lib/python3.6/dist-packages (from requests<3,>=2.21.0->tensorboard<2.3.0,>=2.2.0->tensorflow-gpu==2.2.0) (1.24.3)\n",
            "Requirement already satisfied: cachetools<3.2,>=2.0.0 in /usr/local/lib/python3.6/dist-packages (from google-auth<2,>=1.6.3->tensorboard<2.3.0,>=2.2.0->tensorflow-gpu==2.2.0) (3.1.1)\n",
            "Requirement already satisfied: rsa<4.1,>=3.1.4 in /usr/local/lib/python3.6/dist-packages (from google-auth<2,>=1.6.3->tensorboard<2.3.0,>=2.2.0->tensorflow-gpu==2.2.0) (4.0)\n",
            "Requirement already satisfied: pyasn1-modules>=0.2.1 in /usr/local/lib/python3.6/dist-packages (from google-auth<2,>=1.6.3->tensorboard<2.3.0,>=2.2.0->tensorflow-gpu==2.2.0) (0.2.8)\n",
            "Requirement already satisfied: zipp>=0.5 in /usr/local/lib/python3.6/dist-packages (from importlib-metadata; python_version < \"3.8\"->markdown>=2.6.8->tensorboard<2.3.0,>=2.2.0->tensorflow-gpu==2.2.0) (3.1.0)\n",
            "Requirement already satisfied: oauthlib>=3.0.0 in /usr/local/lib/python3.6/dist-packages (from requests-oauthlib>=0.7.0->google-auth-oauthlib<0.5,>=0.4.1->tensorboard<2.3.0,>=2.2.0->tensorflow-gpu==2.2.0) (3.1.0)\n",
            "Requirement already satisfied: pyasn1>=0.1.3 in /usr/local/lib/python3.6/dist-packages (from rsa<4.1,>=3.1.4->google-auth<2,>=1.6.3->tensorboard<2.3.0,>=2.2.0->tensorflow-gpu==2.2.0) (0.4.8)\n",
            "Installing collected packages: tensorflow-gpu\n",
            "Successfully installed tensorflow-gpu-2.2.0\n"
          ],
          "name": "stdout"
        }
      ]
    },
    {
      "cell_type": "code",
      "metadata": {
        "id": "2aexP-zqQfiP",
        "colab_type": "code",
        "colab": {
          "base_uri": "https://localhost:8080/",
          "height": 70
        },
        "outputId": "f1d49582-ea09-4800-aa10-a065511a22f5"
      },
      "source": [
        "import tensorflow as tf\n",
        "from tensorflow import keras\n",
        "from tensorflow.keras import Sequential\n",
        "from tensorflow.keras.layers import Flatten, Dense, Dropout, BatchNormalization\n",
        "from tensorflow.keras.layers import Conv1D, MaxPool1D\n",
        "from tensorflow.keras.preprocessing.image import ImageDataGenerator\n",
        "from tensorflow.keras.optimizers import Adam\n",
        "\n",
        "import pandas as pd\n",
        "import numpy as np\n",
        "import seaborn as sns\n",
        "import matplotlib.pyplot as plt\n",
        "\n",
        "from sklearn import datasets, metrics\n",
        "from sklearn.model_selection import train_test_split\n",
        "from sklearn.preprocessing import StandardScaler"
      ],
      "execution_count": 4,
      "outputs": [
        {
          "output_type": "stream",
          "text": [
            "/usr/local/lib/python3.6/dist-packages/statsmodels/tools/_testing.py:19: FutureWarning: pandas.util.testing is deprecated. Use the functions in the public API at pandas.testing instead.\n",
            "  import pandas.util.testing as tm\n"
          ],
          "name": "stderr"
        }
      ]
    },
    {
      "cell_type": "markdown",
      "metadata": {
        "id": "UCl6VJwCSJaR",
        "colab_type": "text"
      },
      "source": [
        "## Import Datasets"
      ]
    },
    {
      "cell_type": "code",
      "metadata": {
        "id": "7wBQpawvQzgV",
        "colab_type": "code",
        "colab": {}
      },
      "source": [
        "dataset = datasets.load_breast_cancer()"
      ],
      "execution_count": 0,
      "outputs": []
    },
    {
      "cell_type": "code",
      "metadata": {
        "id": "E4rNczoASKtC",
        "colab_type": "code",
        "colab": {
          "base_uri": "https://localhost:8080/",
          "height": 249
        },
        "outputId": "219738f6-d9ed-4def-9537-ebe5b1731d2d"
      },
      "source": [
        "x = pd.DataFrame(data=dataset.data, columns=dataset.feature_names)\n",
        "y = dataset.target\n",
        "x.head()"
      ],
      "execution_count": 10,
      "outputs": [
        {
          "output_type": "execute_result",
          "data": {
            "text/html": [
              "<div>\n",
              "<style scoped>\n",
              "    .dataframe tbody tr th:only-of-type {\n",
              "        vertical-align: middle;\n",
              "    }\n",
              "\n",
              "    .dataframe tbody tr th {\n",
              "        vertical-align: top;\n",
              "    }\n",
              "\n",
              "    .dataframe thead th {\n",
              "        text-align: right;\n",
              "    }\n",
              "</style>\n",
              "<table border=\"1\" class=\"dataframe\">\n",
              "  <thead>\n",
              "    <tr style=\"text-align: right;\">\n",
              "      <th></th>\n",
              "      <th>mean radius</th>\n",
              "      <th>mean texture</th>\n",
              "      <th>mean perimeter</th>\n",
              "      <th>mean area</th>\n",
              "      <th>mean smoothness</th>\n",
              "      <th>mean compactness</th>\n",
              "      <th>mean concavity</th>\n",
              "      <th>mean concave points</th>\n",
              "      <th>mean symmetry</th>\n",
              "      <th>mean fractal dimension</th>\n",
              "      <th>radius error</th>\n",
              "      <th>texture error</th>\n",
              "      <th>perimeter error</th>\n",
              "      <th>area error</th>\n",
              "      <th>smoothness error</th>\n",
              "      <th>compactness error</th>\n",
              "      <th>concavity error</th>\n",
              "      <th>concave points error</th>\n",
              "      <th>symmetry error</th>\n",
              "      <th>fractal dimension error</th>\n",
              "      <th>worst radius</th>\n",
              "      <th>worst texture</th>\n",
              "      <th>worst perimeter</th>\n",
              "      <th>worst area</th>\n",
              "      <th>worst smoothness</th>\n",
              "      <th>worst compactness</th>\n",
              "      <th>worst concavity</th>\n",
              "      <th>worst concave points</th>\n",
              "      <th>worst symmetry</th>\n",
              "      <th>worst fractal dimension</th>\n",
              "    </tr>\n",
              "  </thead>\n",
              "  <tbody>\n",
              "    <tr>\n",
              "      <th>0</th>\n",
              "      <td>17.99</td>\n",
              "      <td>10.38</td>\n",
              "      <td>122.80</td>\n",
              "      <td>1001.0</td>\n",
              "      <td>0.11840</td>\n",
              "      <td>0.27760</td>\n",
              "      <td>0.3001</td>\n",
              "      <td>0.14710</td>\n",
              "      <td>0.2419</td>\n",
              "      <td>0.07871</td>\n",
              "      <td>1.0950</td>\n",
              "      <td>0.9053</td>\n",
              "      <td>8.589</td>\n",
              "      <td>153.40</td>\n",
              "      <td>0.006399</td>\n",
              "      <td>0.04904</td>\n",
              "      <td>0.05373</td>\n",
              "      <td>0.01587</td>\n",
              "      <td>0.03003</td>\n",
              "      <td>0.006193</td>\n",
              "      <td>25.38</td>\n",
              "      <td>17.33</td>\n",
              "      <td>184.60</td>\n",
              "      <td>2019.0</td>\n",
              "      <td>0.1622</td>\n",
              "      <td>0.6656</td>\n",
              "      <td>0.7119</td>\n",
              "      <td>0.2654</td>\n",
              "      <td>0.4601</td>\n",
              "      <td>0.11890</td>\n",
              "    </tr>\n",
              "    <tr>\n",
              "      <th>1</th>\n",
              "      <td>20.57</td>\n",
              "      <td>17.77</td>\n",
              "      <td>132.90</td>\n",
              "      <td>1326.0</td>\n",
              "      <td>0.08474</td>\n",
              "      <td>0.07864</td>\n",
              "      <td>0.0869</td>\n",
              "      <td>0.07017</td>\n",
              "      <td>0.1812</td>\n",
              "      <td>0.05667</td>\n",
              "      <td>0.5435</td>\n",
              "      <td>0.7339</td>\n",
              "      <td>3.398</td>\n",
              "      <td>74.08</td>\n",
              "      <td>0.005225</td>\n",
              "      <td>0.01308</td>\n",
              "      <td>0.01860</td>\n",
              "      <td>0.01340</td>\n",
              "      <td>0.01389</td>\n",
              "      <td>0.003532</td>\n",
              "      <td>24.99</td>\n",
              "      <td>23.41</td>\n",
              "      <td>158.80</td>\n",
              "      <td>1956.0</td>\n",
              "      <td>0.1238</td>\n",
              "      <td>0.1866</td>\n",
              "      <td>0.2416</td>\n",
              "      <td>0.1860</td>\n",
              "      <td>0.2750</td>\n",
              "      <td>0.08902</td>\n",
              "    </tr>\n",
              "    <tr>\n",
              "      <th>2</th>\n",
              "      <td>19.69</td>\n",
              "      <td>21.25</td>\n",
              "      <td>130.00</td>\n",
              "      <td>1203.0</td>\n",
              "      <td>0.10960</td>\n",
              "      <td>0.15990</td>\n",
              "      <td>0.1974</td>\n",
              "      <td>0.12790</td>\n",
              "      <td>0.2069</td>\n",
              "      <td>0.05999</td>\n",
              "      <td>0.7456</td>\n",
              "      <td>0.7869</td>\n",
              "      <td>4.585</td>\n",
              "      <td>94.03</td>\n",
              "      <td>0.006150</td>\n",
              "      <td>0.04006</td>\n",
              "      <td>0.03832</td>\n",
              "      <td>0.02058</td>\n",
              "      <td>0.02250</td>\n",
              "      <td>0.004571</td>\n",
              "      <td>23.57</td>\n",
              "      <td>25.53</td>\n",
              "      <td>152.50</td>\n",
              "      <td>1709.0</td>\n",
              "      <td>0.1444</td>\n",
              "      <td>0.4245</td>\n",
              "      <td>0.4504</td>\n",
              "      <td>0.2430</td>\n",
              "      <td>0.3613</td>\n",
              "      <td>0.08758</td>\n",
              "    </tr>\n",
              "    <tr>\n",
              "      <th>3</th>\n",
              "      <td>11.42</td>\n",
              "      <td>20.38</td>\n",
              "      <td>77.58</td>\n",
              "      <td>386.1</td>\n",
              "      <td>0.14250</td>\n",
              "      <td>0.28390</td>\n",
              "      <td>0.2414</td>\n",
              "      <td>0.10520</td>\n",
              "      <td>0.2597</td>\n",
              "      <td>0.09744</td>\n",
              "      <td>0.4956</td>\n",
              "      <td>1.1560</td>\n",
              "      <td>3.445</td>\n",
              "      <td>27.23</td>\n",
              "      <td>0.009110</td>\n",
              "      <td>0.07458</td>\n",
              "      <td>0.05661</td>\n",
              "      <td>0.01867</td>\n",
              "      <td>0.05963</td>\n",
              "      <td>0.009208</td>\n",
              "      <td>14.91</td>\n",
              "      <td>26.50</td>\n",
              "      <td>98.87</td>\n",
              "      <td>567.7</td>\n",
              "      <td>0.2098</td>\n",
              "      <td>0.8663</td>\n",
              "      <td>0.6869</td>\n",
              "      <td>0.2575</td>\n",
              "      <td>0.6638</td>\n",
              "      <td>0.17300</td>\n",
              "    </tr>\n",
              "    <tr>\n",
              "      <th>4</th>\n",
              "      <td>20.29</td>\n",
              "      <td>14.34</td>\n",
              "      <td>135.10</td>\n",
              "      <td>1297.0</td>\n",
              "      <td>0.10030</td>\n",
              "      <td>0.13280</td>\n",
              "      <td>0.1980</td>\n",
              "      <td>0.10430</td>\n",
              "      <td>0.1809</td>\n",
              "      <td>0.05883</td>\n",
              "      <td>0.7572</td>\n",
              "      <td>0.7813</td>\n",
              "      <td>5.438</td>\n",
              "      <td>94.44</td>\n",
              "      <td>0.011490</td>\n",
              "      <td>0.02461</td>\n",
              "      <td>0.05688</td>\n",
              "      <td>0.01885</td>\n",
              "      <td>0.01756</td>\n",
              "      <td>0.005115</td>\n",
              "      <td>22.54</td>\n",
              "      <td>16.67</td>\n",
              "      <td>152.20</td>\n",
              "      <td>1575.0</td>\n",
              "      <td>0.1374</td>\n",
              "      <td>0.2050</td>\n",
              "      <td>0.4000</td>\n",
              "      <td>0.1625</td>\n",
              "      <td>0.2364</td>\n",
              "      <td>0.07678</td>\n",
              "    </tr>\n",
              "  </tbody>\n",
              "</table>\n",
              "</div>"
            ],
            "text/plain": [
              "   mean radius  mean texture  ...  worst symmetry  worst fractal dimension\n",
              "0        17.99         10.38  ...          0.4601                  0.11890\n",
              "1        20.57         17.77  ...          0.2750                  0.08902\n",
              "2        19.69         21.25  ...          0.3613                  0.08758\n",
              "3        11.42         20.38  ...          0.6638                  0.17300\n",
              "4        20.29         14.34  ...          0.2364                  0.07678\n",
              "\n",
              "[5 rows x 30 columns]"
            ]
          },
          "metadata": {
            "tags": []
          },
          "execution_count": 10
        }
      ]
    },
    {
      "cell_type": "code",
      "metadata": {
        "id": "fweGUiYuTehj",
        "colab_type": "code",
        "colab": {
          "base_uri": "https://localhost:8080/",
          "height": 84
        },
        "outputId": "e9a23998-78cc-4f20-e9bd-2499aa3672ec"
      },
      "source": [
        "x_train, x_test, y_train, y_test = train_test_split(x, y, test_size=0.2, random_state=0, stratify=y)\n",
        "print(\"x train shape:\", x_train.shape)\n",
        "print(\"x test shape:\", x_test.shape)\n",
        "print(\"y train shape:\", y_train.shape)\n",
        "print(\"y test shape:\", y_test.shape)"
      ],
      "execution_count": 13,
      "outputs": [
        {
          "output_type": "stream",
          "text": [
            "x train shape: (455, 30)\n",
            "x test shape: (114, 30)\n",
            "y train shape: (455,)\n",
            "y test shape: (114,)\n"
          ],
          "name": "stdout"
        }
      ]
    },
    {
      "cell_type": "markdown",
      "metadata": {
        "id": "SfK1omXFVILl",
        "colab_type": "text"
      },
      "source": [
        "## Data Preprocessing"
      ]
    },
    {
      "cell_type": "code",
      "metadata": {
        "id": "3RVNJJ-ETa1x",
        "colab_type": "code",
        "colab": {}
      },
      "source": [
        "scaler = StandardScaler()\n",
        "x_train = scaler.fit_transform(x_train)\n",
        "x_test = scaler.transform(x_test)"
      ],
      "execution_count": 0,
      "outputs": []
    },
    {
      "cell_type": "code",
      "metadata": {
        "id": "IhyCl-w6S-hm",
        "colab_type": "code",
        "colab": {}
      },
      "source": [
        "x_train = x_train.reshape(455, 30, 1)\n",
        "x_test = x_test.reshape(114, 30, 1)"
      ],
      "execution_count": 0,
      "outputs": []
    },
    {
      "cell_type": "markdown",
      "metadata": {
        "id": "qXAgS_plTZXT",
        "colab_type": "text"
      },
      "source": [
        "## Train Model"
      ]
    },
    {
      "cell_type": "code",
      "metadata": {
        "id": "oMMh2WJ7WpT-",
        "colab_type": "code",
        "colab": {
          "base_uri": "https://localhost:8080/",
          "height": 487
        },
        "outputId": "18b2abc5-0f96-4400-fa26-f00a6dd96ecd"
      },
      "source": [
        "model = Sequential()\n",
        "model.add(Conv1D(filters=32, kernel_size=2, activation='relu', input_shape=(30,1)))\n",
        "model.add(BatchNormalization())\n",
        "model.add(Dropout(0.2))\n",
        "\n",
        "model.add(Conv1D(filters=64, kernel_size=2, activation='relu'))\n",
        "model.add(BatchNormalization())\n",
        "model.add(Dropout(0.5))\n",
        "\n",
        "model.add(Flatten())\n",
        "model.add(Dense(64, activation='relu'))\n",
        "model.add(Dropout(0.5))\n",
        "\n",
        "model.add(Dense(1, activation='sigmoid'))\n",
        "model.summary()"
      ],
      "execution_count": 35,
      "outputs": [
        {
          "output_type": "stream",
          "text": [
            "Model: \"sequential_4\"\n",
            "_________________________________________________________________\n",
            "Layer (type)                 Output Shape              Param #   \n",
            "=================================================================\n",
            "conv1d_8 (Conv1D)            (None, 29, 32)            96        \n",
            "_________________________________________________________________\n",
            "batch_normalization_8 (Batch (None, 29, 32)            128       \n",
            "_________________________________________________________________\n",
            "dropout_12 (Dropout)         (None, 29, 32)            0         \n",
            "_________________________________________________________________\n",
            "conv1d_9 (Conv1D)            (None, 28, 64)            4160      \n",
            "_________________________________________________________________\n",
            "batch_normalization_9 (Batch (None, 28, 64)            256       \n",
            "_________________________________________________________________\n",
            "dropout_13 (Dropout)         (None, 28, 64)            0         \n",
            "_________________________________________________________________\n",
            "flatten_4 (Flatten)          (None, 1792)              0         \n",
            "_________________________________________________________________\n",
            "dense_8 (Dense)              (None, 64)                114752    \n",
            "_________________________________________________________________\n",
            "dropout_14 (Dropout)         (None, 64)                0         \n",
            "_________________________________________________________________\n",
            "dense_9 (Dense)              (None, 1)                 65        \n",
            "=================================================================\n",
            "Total params: 119,457\n",
            "Trainable params: 119,265\n",
            "Non-trainable params: 192\n",
            "_________________________________________________________________\n"
          ],
          "name": "stdout"
        }
      ]
    },
    {
      "cell_type": "code",
      "metadata": {
        "id": "QlZlnY9wX_N5",
        "colab_type": "code",
        "colab": {
          "base_uri": "https://localhost:8080/",
          "height": 1000
        },
        "outputId": "190a009d-018b-48dd-d89e-713523ceefc8"
      },
      "source": [
        "epochs = 90\n",
        "model.compile(optimizer=Adam(learning_rate=0.00005), loss='binary_crossentropy', metrics=['accuracy'])\n",
        "history = model.fit(x_train, y_train, epochs=epochs, validation_data=(x_test, y_test), verbose=1)"
      ],
      "execution_count": 36,
      "outputs": [
        {
          "output_type": "stream",
          "text": [
            "Epoch 1/90\n",
            "15/15 [==============================] - 0s 18ms/step - loss: 1.0364 - accuracy: 0.6044 - val_loss: 0.6532 - val_accuracy: 0.8246\n",
            "Epoch 2/90\n",
            "15/15 [==============================] - 0s 9ms/step - loss: 0.6710 - accuracy: 0.7209 - val_loss: 0.5797 - val_accuracy: 0.8860\n",
            "Epoch 3/90\n",
            "15/15 [==============================] - 0s 10ms/step - loss: 0.5475 - accuracy: 0.7604 - val_loss: 0.5248 - val_accuracy: 0.8772\n",
            "Epoch 4/90\n",
            "15/15 [==============================] - 0s 9ms/step - loss: 0.3802 - accuracy: 0.8527 - val_loss: 0.4811 - val_accuracy: 0.9035\n",
            "Epoch 5/90\n",
            "15/15 [==============================] - 0s 9ms/step - loss: 0.3008 - accuracy: 0.8835 - val_loss: 0.4437 - val_accuracy: 0.9035\n",
            "Epoch 6/90\n",
            "15/15 [==============================] - 0s 9ms/step - loss: 0.3534 - accuracy: 0.8549 - val_loss: 0.4125 - val_accuracy: 0.9035\n",
            "Epoch 7/90\n",
            "15/15 [==============================] - 0s 9ms/step - loss: 0.2719 - accuracy: 0.8945 - val_loss: 0.3834 - val_accuracy: 0.9123\n",
            "Epoch 8/90\n",
            "15/15 [==============================] - 0s 10ms/step - loss: 0.2439 - accuracy: 0.9143 - val_loss: 0.3572 - val_accuracy: 0.9123\n",
            "Epoch 9/90\n",
            "15/15 [==============================] - 0s 9ms/step - loss: 0.3046 - accuracy: 0.8791 - val_loss: 0.3323 - val_accuracy: 0.9035\n",
            "Epoch 10/90\n",
            "15/15 [==============================] - 0s 9ms/step - loss: 0.2148 - accuracy: 0.9143 - val_loss: 0.3112 - val_accuracy: 0.9035\n",
            "Epoch 11/90\n",
            "15/15 [==============================] - 0s 9ms/step - loss: 0.2239 - accuracy: 0.9253 - val_loss: 0.2888 - val_accuracy: 0.9123\n",
            "Epoch 12/90\n",
            "15/15 [==============================] - 0s 9ms/step - loss: 0.2077 - accuracy: 0.9253 - val_loss: 0.2680 - val_accuracy: 0.9211\n",
            "Epoch 13/90\n",
            "15/15 [==============================] - 0s 9ms/step - loss: 0.2098 - accuracy: 0.9055 - val_loss: 0.2501 - val_accuracy: 0.9298\n",
            "Epoch 14/90\n",
            "15/15 [==============================] - 0s 10ms/step - loss: 0.1930 - accuracy: 0.9253 - val_loss: 0.2333 - val_accuracy: 0.9211\n",
            "Epoch 15/90\n",
            "15/15 [==============================] - 0s 10ms/step - loss: 0.1950 - accuracy: 0.9033 - val_loss: 0.2188 - val_accuracy: 0.9298\n",
            "Epoch 16/90\n",
            "15/15 [==============================] - 0s 9ms/step - loss: 0.2321 - accuracy: 0.9077 - val_loss: 0.2060 - val_accuracy: 0.9298\n",
            "Epoch 17/90\n",
            "15/15 [==============================] - 0s 9ms/step - loss: 0.2353 - accuracy: 0.9121 - val_loss: 0.1921 - val_accuracy: 0.9386\n",
            "Epoch 18/90\n",
            "15/15 [==============================] - 0s 9ms/step - loss: 0.1633 - accuracy: 0.9385 - val_loss: 0.1780 - val_accuracy: 0.9474\n",
            "Epoch 19/90\n",
            "15/15 [==============================] - 0s 9ms/step - loss: 0.1757 - accuracy: 0.9297 - val_loss: 0.1676 - val_accuracy: 0.9474\n",
            "Epoch 20/90\n",
            "15/15 [==============================] - 0s 9ms/step - loss: 0.1414 - accuracy: 0.9407 - val_loss: 0.1595 - val_accuracy: 0.9474\n",
            "Epoch 21/90\n",
            "15/15 [==============================] - 0s 9ms/step - loss: 0.1806 - accuracy: 0.9187 - val_loss: 0.1502 - val_accuracy: 0.9474\n",
            "Epoch 22/90\n",
            "15/15 [==============================] - 0s 9ms/step - loss: 0.1633 - accuracy: 0.9297 - val_loss: 0.1430 - val_accuracy: 0.9474\n",
            "Epoch 23/90\n",
            "15/15 [==============================] - 0s 9ms/step - loss: 0.1195 - accuracy: 0.9516 - val_loss: 0.1370 - val_accuracy: 0.9474\n",
            "Epoch 24/90\n",
            "15/15 [==============================] - 0s 9ms/step - loss: 0.1437 - accuracy: 0.9451 - val_loss: 0.1308 - val_accuracy: 0.9474\n",
            "Epoch 25/90\n",
            "15/15 [==============================] - 0s 9ms/step - loss: 0.1804 - accuracy: 0.9209 - val_loss: 0.1270 - val_accuracy: 0.9474\n",
            "Epoch 26/90\n",
            "15/15 [==============================] - 0s 9ms/step - loss: 0.1322 - accuracy: 0.9429 - val_loss: 0.1247 - val_accuracy: 0.9474\n",
            "Epoch 27/90\n",
            "15/15 [==============================] - 0s 10ms/step - loss: 0.1519 - accuracy: 0.9538 - val_loss: 0.1213 - val_accuracy: 0.9649\n",
            "Epoch 28/90\n",
            "15/15 [==============================] - 0s 10ms/step - loss: 0.1712 - accuracy: 0.9407 - val_loss: 0.1157 - val_accuracy: 0.9649\n",
            "Epoch 29/90\n",
            "15/15 [==============================] - 0s 10ms/step - loss: 0.1488 - accuracy: 0.9451 - val_loss: 0.1089 - val_accuracy: 0.9737\n",
            "Epoch 30/90\n",
            "15/15 [==============================] - 0s 10ms/step - loss: 0.1334 - accuracy: 0.9516 - val_loss: 0.1053 - val_accuracy: 0.9737\n",
            "Epoch 31/90\n",
            "15/15 [==============================] - 0s 9ms/step - loss: 0.1159 - accuracy: 0.9560 - val_loss: 0.1033 - val_accuracy: 0.9737\n",
            "Epoch 32/90\n",
            "15/15 [==============================] - 0s 9ms/step - loss: 0.1737 - accuracy: 0.9253 - val_loss: 0.1022 - val_accuracy: 0.9737\n",
            "Epoch 33/90\n",
            "15/15 [==============================] - 0s 9ms/step - loss: 0.1044 - accuracy: 0.9582 - val_loss: 0.1010 - val_accuracy: 0.9737\n",
            "Epoch 34/90\n",
            "15/15 [==============================] - 0s 10ms/step - loss: 0.1482 - accuracy: 0.9473 - val_loss: 0.0991 - val_accuracy: 0.9737\n",
            "Epoch 35/90\n",
            "15/15 [==============================] - 0s 10ms/step - loss: 0.1674 - accuracy: 0.9429 - val_loss: 0.0979 - val_accuracy: 0.9737\n",
            "Epoch 36/90\n",
            "15/15 [==============================] - 0s 10ms/step - loss: 0.1256 - accuracy: 0.9516 - val_loss: 0.0975 - val_accuracy: 0.9737\n",
            "Epoch 37/90\n",
            "15/15 [==============================] - 0s 9ms/step - loss: 0.1532 - accuracy: 0.9429 - val_loss: 0.0958 - val_accuracy: 0.9737\n",
            "Epoch 38/90\n",
            "15/15 [==============================] - 0s 10ms/step - loss: 0.1054 - accuracy: 0.9582 - val_loss: 0.0956 - val_accuracy: 0.9649\n",
            "Epoch 39/90\n",
            "15/15 [==============================] - 0s 10ms/step - loss: 0.1093 - accuracy: 0.9626 - val_loss: 0.0952 - val_accuracy: 0.9649\n",
            "Epoch 40/90\n",
            "15/15 [==============================] - 0s 9ms/step - loss: 0.1195 - accuracy: 0.9495 - val_loss: 0.0954 - val_accuracy: 0.9649\n",
            "Epoch 41/90\n",
            "15/15 [==============================] - 0s 9ms/step - loss: 0.1039 - accuracy: 0.9736 - val_loss: 0.0934 - val_accuracy: 0.9737\n",
            "Epoch 42/90\n",
            "15/15 [==============================] - 0s 9ms/step - loss: 0.1377 - accuracy: 0.9451 - val_loss: 0.0939 - val_accuracy: 0.9737\n",
            "Epoch 43/90\n",
            "15/15 [==============================] - 0s 10ms/step - loss: 0.1111 - accuracy: 0.9626 - val_loss: 0.0938 - val_accuracy: 0.9649\n",
            "Epoch 44/90\n",
            "15/15 [==============================] - 0s 10ms/step - loss: 0.1445 - accuracy: 0.9385 - val_loss: 0.0928 - val_accuracy: 0.9649\n",
            "Epoch 45/90\n",
            "15/15 [==============================] - 0s 9ms/step - loss: 0.0975 - accuracy: 0.9648 - val_loss: 0.0924 - val_accuracy: 0.9649\n",
            "Epoch 46/90\n",
            "15/15 [==============================] - 0s 9ms/step - loss: 0.1307 - accuracy: 0.9538 - val_loss: 0.0929 - val_accuracy: 0.9649\n",
            "Epoch 47/90\n",
            "15/15 [==============================] - 0s 9ms/step - loss: 0.1079 - accuracy: 0.9560 - val_loss: 0.0926 - val_accuracy: 0.9649\n",
            "Epoch 48/90\n",
            "15/15 [==============================] - 0s 9ms/step - loss: 0.1440 - accuracy: 0.9473 - val_loss: 0.0940 - val_accuracy: 0.9649\n",
            "Epoch 49/90\n",
            "15/15 [==============================] - 0s 9ms/step - loss: 0.1155 - accuracy: 0.9495 - val_loss: 0.0953 - val_accuracy: 0.9649\n",
            "Epoch 50/90\n",
            "15/15 [==============================] - 0s 9ms/step - loss: 0.0976 - accuracy: 0.9692 - val_loss: 0.0945 - val_accuracy: 0.9649\n",
            "Epoch 51/90\n",
            "15/15 [==============================] - 0s 9ms/step - loss: 0.1024 - accuracy: 0.9626 - val_loss: 0.0933 - val_accuracy: 0.9649\n",
            "Epoch 52/90\n",
            "15/15 [==============================] - 0s 9ms/step - loss: 0.1229 - accuracy: 0.9473 - val_loss: 0.0923 - val_accuracy: 0.9649\n",
            "Epoch 53/90\n",
            "15/15 [==============================] - 0s 10ms/step - loss: 0.1119 - accuracy: 0.9538 - val_loss: 0.0925 - val_accuracy: 0.9649\n",
            "Epoch 54/90\n",
            "15/15 [==============================] - 0s 10ms/step - loss: 0.0865 - accuracy: 0.9692 - val_loss: 0.0928 - val_accuracy: 0.9649\n",
            "Epoch 55/90\n",
            "15/15 [==============================] - 0s 9ms/step - loss: 0.1018 - accuracy: 0.9626 - val_loss: 0.0913 - val_accuracy: 0.9649\n",
            "Epoch 56/90\n",
            "15/15 [==============================] - 0s 9ms/step - loss: 0.0847 - accuracy: 0.9560 - val_loss: 0.0902 - val_accuracy: 0.9649\n",
            "Epoch 57/90\n",
            "15/15 [==============================] - 0s 9ms/step - loss: 0.1215 - accuracy: 0.9626 - val_loss: 0.0891 - val_accuracy: 0.9649\n",
            "Epoch 58/90\n",
            "15/15 [==============================] - 0s 9ms/step - loss: 0.1000 - accuracy: 0.9648 - val_loss: 0.0886 - val_accuracy: 0.9649\n",
            "Epoch 59/90\n",
            "15/15 [==============================] - 0s 10ms/step - loss: 0.0814 - accuracy: 0.9670 - val_loss: 0.0885 - val_accuracy: 0.9649\n",
            "Epoch 60/90\n",
            "15/15 [==============================] - 0s 9ms/step - loss: 0.0767 - accuracy: 0.9670 - val_loss: 0.0891 - val_accuracy: 0.9649\n",
            "Epoch 61/90\n",
            "15/15 [==============================] - 0s 9ms/step - loss: 0.1061 - accuracy: 0.9670 - val_loss: 0.0888 - val_accuracy: 0.9649\n",
            "Epoch 62/90\n",
            "15/15 [==============================] - 0s 9ms/step - loss: 0.1178 - accuracy: 0.9538 - val_loss: 0.0890 - val_accuracy: 0.9649\n",
            "Epoch 63/90\n",
            "15/15 [==============================] - 0s 9ms/step - loss: 0.0983 - accuracy: 0.9670 - val_loss: 0.0885 - val_accuracy: 0.9649\n",
            "Epoch 64/90\n",
            "15/15 [==============================] - 0s 9ms/step - loss: 0.1035 - accuracy: 0.9516 - val_loss: 0.0886 - val_accuracy: 0.9649\n",
            "Epoch 65/90\n",
            "15/15 [==============================] - 0s 9ms/step - loss: 0.0821 - accuracy: 0.9758 - val_loss: 0.0892 - val_accuracy: 0.9649\n",
            "Epoch 66/90\n",
            "15/15 [==============================] - 0s 9ms/step - loss: 0.1240 - accuracy: 0.9604 - val_loss: 0.0895 - val_accuracy: 0.9649\n",
            "Epoch 67/90\n",
            "15/15 [==============================] - 0s 10ms/step - loss: 0.0577 - accuracy: 0.9846 - val_loss: 0.0889 - val_accuracy: 0.9649\n",
            "Epoch 68/90\n",
            "15/15 [==============================] - 0s 10ms/step - loss: 0.1106 - accuracy: 0.9560 - val_loss: 0.0883 - val_accuracy: 0.9649\n",
            "Epoch 69/90\n",
            "15/15 [==============================] - 0s 10ms/step - loss: 0.0797 - accuracy: 0.9714 - val_loss: 0.0883 - val_accuracy: 0.9649\n",
            "Epoch 70/90\n",
            "15/15 [==============================] - 0s 9ms/step - loss: 0.0788 - accuracy: 0.9736 - val_loss: 0.0884 - val_accuracy: 0.9649\n",
            "Epoch 71/90\n",
            "15/15 [==============================] - 0s 9ms/step - loss: 0.0899 - accuracy: 0.9714 - val_loss: 0.0888 - val_accuracy: 0.9649\n",
            "Epoch 72/90\n",
            "15/15 [==============================] - 0s 10ms/step - loss: 0.0887 - accuracy: 0.9648 - val_loss: 0.0892 - val_accuracy: 0.9649\n",
            "Epoch 73/90\n",
            "15/15 [==============================] - 0s 9ms/step - loss: 0.1004 - accuracy: 0.9648 - val_loss: 0.0890 - val_accuracy: 0.9649\n",
            "Epoch 74/90\n",
            "15/15 [==============================] - 0s 10ms/step - loss: 0.0890 - accuracy: 0.9626 - val_loss: 0.0875 - val_accuracy: 0.9649\n",
            "Epoch 75/90\n",
            "15/15 [==============================] - 0s 10ms/step - loss: 0.1047 - accuracy: 0.9648 - val_loss: 0.0877 - val_accuracy: 0.9649\n",
            "Epoch 76/90\n",
            "15/15 [==============================] - 0s 9ms/step - loss: 0.1037 - accuracy: 0.9560 - val_loss: 0.0875 - val_accuracy: 0.9649\n",
            "Epoch 77/90\n",
            "15/15 [==============================] - 0s 9ms/step - loss: 0.0833 - accuracy: 0.9758 - val_loss: 0.0882 - val_accuracy: 0.9649\n",
            "Epoch 78/90\n",
            "15/15 [==============================] - 0s 9ms/step - loss: 0.1060 - accuracy: 0.9538 - val_loss: 0.0882 - val_accuracy: 0.9649\n",
            "Epoch 79/90\n",
            "15/15 [==============================] - 0s 9ms/step - loss: 0.0873 - accuracy: 0.9648 - val_loss: 0.0886 - val_accuracy: 0.9561\n",
            "Epoch 80/90\n",
            "15/15 [==============================] - 0s 9ms/step - loss: 0.0923 - accuracy: 0.9714 - val_loss: 0.0892 - val_accuracy: 0.9561\n",
            "Epoch 81/90\n",
            "15/15 [==============================] - 0s 9ms/step - loss: 0.0782 - accuracy: 0.9736 - val_loss: 0.0892 - val_accuracy: 0.9561\n",
            "Epoch 82/90\n",
            "15/15 [==============================] - 0s 9ms/step - loss: 0.0689 - accuracy: 0.9692 - val_loss: 0.0891 - val_accuracy: 0.9561\n",
            "Epoch 83/90\n",
            "15/15 [==============================] - 0s 10ms/step - loss: 0.0707 - accuracy: 0.9692 - val_loss: 0.0890 - val_accuracy: 0.9561\n",
            "Epoch 84/90\n",
            "15/15 [==============================] - 0s 9ms/step - loss: 0.0771 - accuracy: 0.9714 - val_loss: 0.0897 - val_accuracy: 0.9561\n",
            "Epoch 85/90\n",
            "15/15 [==============================] - 0s 9ms/step - loss: 0.0640 - accuracy: 0.9714 - val_loss: 0.0893 - val_accuracy: 0.9561\n",
            "Epoch 86/90\n",
            "15/15 [==============================] - 0s 9ms/step - loss: 0.0573 - accuracy: 0.9780 - val_loss: 0.0888 - val_accuracy: 0.9561\n",
            "Epoch 87/90\n",
            "15/15 [==============================] - 0s 9ms/step - loss: 0.0630 - accuracy: 0.9670 - val_loss: 0.0887 - val_accuracy: 0.9649\n",
            "Epoch 88/90\n",
            "15/15 [==============================] - 0s 9ms/step - loss: 0.0995 - accuracy: 0.9648 - val_loss: 0.0890 - val_accuracy: 0.9649\n",
            "Epoch 89/90\n",
            "15/15 [==============================] - 0s 9ms/step - loss: 0.0885 - accuracy: 0.9670 - val_loss: 0.0894 - val_accuracy: 0.9649\n",
            "Epoch 90/90\n",
            "15/15 [==============================] - 0s 10ms/step - loss: 0.0494 - accuracy: 0.9846 - val_loss: 0.0903 - val_accuracy: 0.9649\n"
          ],
          "name": "stdout"
        }
      ]
    },
    {
      "cell_type": "markdown",
      "metadata": {
        "id": "FLbwvQfoZAhA",
        "colab_type": "text"
      },
      "source": [
        "## Plot Learning Curve "
      ]
    },
    {
      "cell_type": "code",
      "metadata": {
        "id": "igrMFg27ZDGZ",
        "colab_type": "code",
        "colab": {}
      },
      "source": [
        "def plot_learning_curve(history, epoch):\n",
        "  epoch_range = range(1, epoch+1)\n",
        "  plt.plot(epoch_range, history.history['accuracy'])\n",
        "  plt.plot(epoch_range, history.history['val_accuracy'])\n",
        "  plt.title('Accuracy Model')\n",
        "  plt.ylabel('Accuracy')\n",
        "  plt.xlabel(\"Epoch\")\n",
        "  plt.legend(['Train', 'Val'], loc='upper right')\n",
        "  plt.show()\n",
        "\n",
        "  plt.plot(epoch_range, history.history['loss'])\n",
        "  plt.plot(epoch_range, history.history['val_loss'])\n",
        "  plt.title('Loss Model')\n",
        "  plt.ylabel('Loss')\n",
        "  plt.xlabel(\"Epoch\")\n",
        "  plt.legend(['Train', 'Val'], loc='upper right')\n",
        "  plt.show() "
      ],
      "execution_count": 0,
      "outputs": []
    },
    {
      "cell_type": "code",
      "metadata": {
        "id": "SZyKDofoZivJ",
        "colab_type": "code",
        "colab": {
          "base_uri": "https://localhost:8080/",
          "height": 573
        },
        "outputId": "fe01fd22-4192-4c47-80c1-649191fc9cba"
      },
      "source": [
        "plot_learning_curve(history, epochs)"
      ],
      "execution_count": 38,
      "outputs": [
        {
          "output_type": "display_data",
          "data": {
            "image/png": "[encoded data removed]",
            "text/plain": [
              "<Figure size 432x288 with 1 Axes>"
            ]
          },
          "metadata": {
            "tags": [],
            "needs_background": "light"
          }
        },
        {
          "output_type": "display_data",
          "data": {
            "image/png": "[encoded data removed]",
            "text/plain": [
              "<Figure size 432x288 with 1 Axes>"
            ]
          },
          "metadata": {
            "tags": [],
            "needs_background": "light"
          }
        }
      ]
    }
  ]
}